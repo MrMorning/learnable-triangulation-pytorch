{
 "cells": [
  {
   "cell_type": "code",
   "execution_count": 7,
   "metadata": {},
   "outputs": [],
   "source": [
    "import torch\n",
    "import numpy as np\n",
    "import cv2\n",
    "from tqdm import tqdm\n",
    "\n",
    "import os, sys\n",
    "\n",
    "sys.path.append(os.path.join(os.path.dirname(os.path.abspath('')), \"../..\"))\n",
    "from mvn.datasets.human36m import Human36MMultiViewDataset\n"
   ]
  },
  {
   "cell_type": "code",
   "execution_count": 10,
   "metadata": {},
   "outputs": [
    {
     "name": "stdout",
     "output_type": "stream",
     "text": [
      "Dataset length: 5924\n"
     ]
    }
   ],
   "source": [
    "h36m_root = os.path.join('/home/chen/develop/dl/learnable-triangulation-pytorch-master/data/human36m/', \"processed\")\n",
    "labels_multiview_npy_path = '/home/chen/develop/dl/learnable-triangulation-pytorch-master/data/human36m/extra/human36m-multiview-labels-GTbboxes.npy'\n",
    "number_of_processes = 1\n",
    "dataset = Human36MMultiViewDataset(\n",
    "    h36m_root,\n",
    "    labels_multiview_npy_path,\n",
    "    train=True,                       # include all possible data\n",
    "    test=True,\n",
    "    image_shape=None,                 # don't resize\n",
    "    retain_every_n_frames_in_test=1,  # yes actually ALL possible data\n",
    "    with_damaged_actions=True,        # I said ALL DATA\n",
    "    kind=\"mpii\",\n",
    "    norm_image=False,                 # don't do unnecessary image processing\n",
    "    crop=False)                       # don't crop\n",
    "print(\"Dataset length:\", len(dataset))"
   ]
  },
  {
   "cell_type": "code",
   "execution_count": 13,
   "metadata": {},
   "outputs": [
    {
     "data": {
      "text/plain": [
       "['54138969', '55011271', '58860488', '60457274']"
      ]
     },
     "execution_count": 13,
     "metadata": {},
     "output_type": "execute_result"
    }
   ],
   "source": [
    "dataset.labels['camera_names']"
   ]
  },
  {
   "cell_type": "code",
   "execution_count": null,
   "metadata": {},
   "outputs": [],
   "source": []
  }
 ],
 "metadata": {
  "kernelspec": {
   "display_name": "Python 3",
   "language": "python",
   "name": "python3"
  },
  "language_info": {
   "codemirror_mode": {
    "name": "ipython",
    "version": 3
   },
   "file_extension": ".py",
   "mimetype": "text/x-python",
   "name": "python",
   "nbconvert_exporter": "python",
   "pygments_lexer": "ipython3",
   "version": "3.7.3"
  }
 },
 "nbformat": 4,
 "nbformat_minor": 2
}
